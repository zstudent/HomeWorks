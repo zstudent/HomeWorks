{
  "nbformat": 4,
  "nbformat_minor": 0,
  "metadata": {
    "colab": {
      "name": "HomeworkW3.ipynb",
      "provenance": []
    },
    "kernelspec": {
      "name": "python3",
      "display_name": "Python 3"
    }
  },
  "cells": [
    {
      "cell_type": "code",
      "metadata": {
        "id": "x3EKLGQSBwFv",
        "colab_type": "code",
        "colab": {}
      },
      "source": [
        "from collections import defaultdict"
      ],
      "execution_count": 32,
      "outputs": []
    },
    {
      "cell_type": "code",
      "metadata": {
        "id": "7KDhpIXrDJlK",
        "colab_type": "code",
        "colab": {}
      },
      "source": [
        "def readGenome(filename):\n",
        "  genome = ''\n",
        "  with open(filename, 'r') as f:\n",
        "    for line in f:\n",
        "      if not line[0] == '>':\n",
        "        genome += line.rstrip()\n",
        "  return genome"
      ],
      "execution_count": 33,
      "outputs": []
    },
    {
      "cell_type": "code",
      "metadata": {
        "id": "osVgpP3SEcgp",
        "colab_type": "code",
        "colab": {}
      },
      "source": [
        "genome = readGenome('chr1.GRCh38.excerpt (1).fasta')"
      ],
      "execution_count": 34,
      "outputs": []
    },
    {
      "cell_type": "code",
      "metadata": {
        "id": "aRnAthRREOn2",
        "colab_type": "code",
        "colab": {}
      },
      "source": [
        "def approximate_match(p, t):\n",
        "    # Create distance matrix\n",
        "    D = []\n",
        "    for i in range(len(p)+1):\n",
        "        D.append([0]*(len(t)+1))\n",
        "\n",
        "    # Initialize first row and column of matrix\n",
        "    for i in range(len(p)+1):\n",
        "        D[i][0] = i\n",
        "    for i in range(len(t)+1):\n",
        "        D[0][i] = 0\n",
        "\n",
        "    # Fill in the rest of the matrix\n",
        "    for i in range(1, len(p)+1):\n",
        "        for j in range(1, len(t)+1):\n",
        "            distHor = D[i][j-1] + 1\n",
        "            distVer = D[i-1][j] + 1\n",
        "            if p[i-1] == t[j-1]:\n",
        "                distDiag = D[i-1][j-1]\n",
        "            else:\n",
        "                distDiag = D[i-1][j-1] + 1\n",
        "            D[i][j] = min(distHor, distVer, distDiag)\n",
        "\n",
        "    # Edit distance is the value in the bottom right corner of the matrix\n",
        "    return min(D[-1])"
      ],
      "execution_count": 35,
      "outputs": []
    },
    {
      "cell_type": "code",
      "metadata": {
        "id": "05l7pNr1GgrQ",
        "colab_type": "code",
        "colab": {
          "base_uri": "https://localhost:8080/",
          "height": 34
        },
        "outputId": "6a8066ae-8dbf-4545-b18b-8e5ca7eb830a"
      },
      "source": [
        "# Question 1\n",
        "p = \"GCTGATCGATCGTACG\"\n",
        "print(approximate_match(p, genome))"
      ],
      "execution_count": 36,
      "outputs": [
        {
          "output_type": "stream",
          "text": [
            "3\n"
          ],
          "name": "stdout"
        }
      ]
    },
    {
      "cell_type": "code",
      "metadata": {
        "id": "xw2Hv4oNHqWL",
        "colab_type": "code",
        "colab": {}
      },
      "source": [
        "def approximate_match(p, t):\n",
        "    # Create distance matrix\n",
        "    D = []\n",
        "    for i in range(len(p)+1):\n",
        "        D.append([0]*(len(t)+1))\n",
        "\n",
        "    # Initialize first row and column of matrix\n",
        "    for i in range(len(p)+1):\n",
        "        D[i][0] = i\n",
        "    for i in range(len(t)+1):\n",
        "        D[0][i] = 0\n",
        "\n",
        "    # Fill in the rest of the matrix\n",
        "    for i in range(1, len(p)+1):\n",
        "        for j in range(1, len(t)+1):\n",
        "            distHor = D[i][j-1] + 1\n",
        "            distVer = D[i-1][j] + 1\n",
        "            if p[i-1] == t[j-1]:\n",
        "                distDiag = D[i-1][j-1]\n",
        "            else:\n",
        "                distDiag = D[i-1][j-1] + 1\n",
        "            D[i][j] = min(distHor, distVer, distDiag)\n",
        "\n",
        "    # Edit distance is the value in the bottom right corner of the matrix\n",
        "    return min(D[-1])"
      ],
      "execution_count": 37,
      "outputs": []
    },
    {
      "cell_type": "code",
      "metadata": {
        "id": "1Le3Aum1A0I2",
        "colab_type": "code",
        "colab": {
          "base_uri": "https://localhost:8080/",
          "height": 34
        },
        "outputId": "130d7c5e-8fbb-4d1c-8045-270deb365203"
      },
      "source": [
        "# Question 2\n",
        "p = \"GATTTACCAGATTGAG\"\n",
        "print(approximate_match(p, genome)) "
      ],
      "execution_count": 38,
      "outputs": [
        {
          "output_type": "stream",
          "text": [
            "2\n"
          ],
          "name": "stdout"
        }
      ]
    },
    {
      "cell_type": "code",
      "metadata": {
        "id": "elaSrFYyBet_",
        "colab_type": "code",
        "colab": {}
      },
      "source": [
        "def readFastq(filename):\n",
        "    sequences = []\n",
        "    qualities = []\n",
        "    with open(filename) as fh:\n",
        "        while True:\n",
        "            fh.readline()  # skip name line\n",
        "            seq = fh.readline().rstrip()  # read base sequence\n",
        "            fh.readline()  # skip placeholder line\n",
        "            qual = fh.readline().rstrip()  # base quality line\n",
        "            if len(seq) == 0:\n",
        "                break\n",
        "            sequences.append(seq)\n",
        "            qualities.append(qual)\n",
        "    return sequences, qualities"
      ],
      "execution_count": 39,
      "outputs": []
    },
    {
      "cell_type": "code",
      "metadata": {
        "id": "mBagiwxvC1kj",
        "colab_type": "code",
        "colab": {}
      },
      "source": [
        "def overlap(a, b, min_length=3):\n",
        "    \"\"\" Return length of longest suffix of 'a' matching\n",
        "        a prefix of 'b' that is at least 'min_length'\n",
        "        characters long.  If no such overlap exists,\n",
        "        return 0. \"\"\"\n",
        "    start = 0  # start all the way at the left\n",
        "    while True:\n",
        "        start = a.find(b[:min_length], start)  # look for b's suffx in a\n",
        "        if start == -1:  # no more occurrences to right\n",
        "            return 0\n",
        "        # found occurrence; check for full suffix/prefix match\n",
        "        if b.startswith(a[start:]):\n",
        "            return len(a) - start\n",
        "        start += 1  # move just past previous match"
      ],
      "execution_count": 40,
      "outputs": []
    },
    {
      "cell_type": "code",
      "metadata": {
        "id": "KD6WuxHiB0tk",
        "colab_type": "code",
        "colab": {}
      },
      "source": [
        "def overlap_graph(reads, k):\n",
        "    # Make index\n",
        "    index = defaultdict(set)\n",
        "    for read in reads:\n",
        "        for i in range(len(read) - k + 1):\n",
        "            index[read[i:i + k]].add(read)\n",
        "\n",
        "    # Make graph\n",
        "    graph = defaultdict(set)\n",
        "    for r in reads:\n",
        "        for o in index[r[-k:]]:\n",
        "            if r != o:\n",
        "                if overlap(r, o, k):\n",
        "                    graph[r].add(o)\n",
        "\n",
        "    edges = 0\n",
        "    for read in graph:\n",
        "        edges += len(graph[read])\n",
        "    return (edges, len(graph))"
      ],
      "execution_count": 41,
      "outputs": []
    },
    {
      "cell_type": "code",
      "metadata": {
        "id": "6jnmCbxxCFI4",
        "colab_type": "code",
        "colab": {
          "base_uri": "https://localhost:8080/",
          "height": 34
        },
        "outputId": "3950d023-9d0c-4054-a2a1-2b5b4549c286"
      },
      "source": [
        "# Question 3\n",
        "seqs, quals = readFastq('ERR266411_1.for_asm.fastq')\n",
        "edges, suffixes = overlap_graph(seqs, 30)\n",
        "print(edges)"
      ],
      "execution_count": 42,
      "outputs": [
        {
          "output_type": "stream",
          "text": [
            "904746\n"
          ],
          "name": "stdout"
        }
      ]
    },
    {
      "cell_type": "code",
      "metadata": {
        "id": "AlgltDIMCuVK",
        "colab_type": "code",
        "colab": {
          "base_uri": "https://localhost:8080/",
          "height": 34
        },
        "outputId": "af5d3363-43eb-441a-90e5-5d09eedcd8fe"
      },
      "source": [
        "# Question 4\n",
        "edges, suffixes = overlap_graph(seqs, 30)\n",
        "print(suffixes) "
      ],
      "execution_count": 43,
      "outputs": [
        {
          "output_type": "stream",
          "text": [
            "7161\n"
          ],
          "name": "stdout"
        }
      ]
    }
  ]
}