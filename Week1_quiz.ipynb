{
 "cells": [
  {
   "cell_type": "code",
   "execution_count": 1,
   "metadata": {},
   "outputs": [],
   "source": [
    "class DNA_Helper:\n",
    "    '''This is a class of static methods that will be helpful while analyzing sequence data'''\n",
    "    \n",
    "    def read_genome(filename):\n",
    "        '''This function is responsible for reading the file and returning the sequence in the string format'''\n",
    "        whole_sequence = ''\n",
    "        with open(filename,'r') as file:\n",
    "            for line in file:\n",
    "                if not line.startswith('>'):\n",
    "                    whole_sequence += line.rstrip()\n",
    "        return whole_sequence\n",
    "    \n",
    "    def read_fastq(filename):\n",
    "        '''This function is responsible for reading the FASTQ file and returning the sequences and qualities'''\n",
    "        sequences, qualities = [], []\n",
    "        with open(filename,'r') as fh:\n",
    "            while True:\n",
    "                fh.readline()\n",
    "                seq = fh.readline().rstrip()\n",
    "                fh.readline()\n",
    "                qual = fh.readline().rstrip()\n",
    "                if len(seq) == 0:\n",
    "                    break\n",
    "                sequences.append(seq)\n",
    "                qualities.append(qual)\n",
    "        return sequences, qualities\n",
    "\n",
    "    def phred33_to_quality(quality):\n",
    "        '''This function does the conversion of the quality value to the number value'''\n",
    "        return ord(quality) - 33\n",
    "    \n",
    "    def naive(p, t):\n",
    "        '''naive match algorithm'''\n",
    "        indices = []\n",
    "        for i in range(len(t) - len(p) + 1):\n",
    "            match = True\n",
    "            for j in range(len(p)):\n",
    "                if t[i+j] != p[j]:\n",
    "                    match = False\n",
    "                    break\n",
    "            if match: \n",
    "                indices.append(i)\n",
    "        return indices\n",
    "    \n",
    "    def reverse_complement(sequence):\n",
    "        '''This function is responsible for reversing and returning the complement of the sequence'''\n",
    "        complementary_bases = {'A':'T','C':'G','G':'C','T':'A','N':'N'}\n",
    "        sequence = reversed(sequence)\n",
    "        reversed_sequence = ''\n",
    "        for base in sequence:\n",
    "            reversed_sequence += complementary_bases[base]\n",
    "        return reversed_sequence\n",
    "    \n",
    "    def naive_reverse_complement(p, t):\n",
    "        '''naive match algorithm but taking into consideration the reverse complement string'''\n",
    "        complement_sequence = DNA_Helper.reverse_complement(p)\n",
    "        if complement_sequence == p:\n",
    "            return DNA_Helper.naive(p,t)\n",
    "        else:\n",
    "            return DNA_Helper.naive(p,t) + DNA_Helper.naive(complement_sequence,t)\n",
    "        \n",
    "    def leftmost_occurence(s1,genome):\n",
    "        '''This function returns the leftmost occurence of some sequence or its complement'''\n",
    "        s2 = DNA_Helper.reverse_complement(s1)\n",
    "        s1_index = DNA_Helper.naive(s1,genome)[0] # leftmost --> zeroth index in the list\n",
    "        s2_index = DNA_Helper.naive(s2,genome)[0] # leftmost --> zeroth index in the list\n",
    "        if s1_index < s2_index:\n",
    "            return (s1_index,'original sequence') # returns informational tuple\n",
    "        elif s1_index > s2_index:\n",
    "            return (s2_index,'reversed sequence') # returns informational tuple\n",
    "        else:\n",
    "            return (s1_index,'both sequences') # # returns informational tuple\n",
    "        \n",
    "    def naive_2mm(p, t):\n",
    "        '''naive match algorithm that allows at most 2 mismatches'''\n",
    "        indices = []\n",
    "        for i in range(len(t) - len(p) + 1):\n",
    "            match = True\n",
    "            mismatch_count = 0\n",
    "            for j in range(len(p)):\n",
    "                if t[i+j] != p[j]:\n",
    "                    mismatch_count += 1\n",
    "                if mismatch_count > 2:\n",
    "                    match = False\n",
    "                    break\n",
    "            if match: \n",
    "                indices.append(i)\n",
    "        return indices\n",
    "    \n",
    "    def find_GC_by_position_mine(reads):\n",
    "        '''This function calculates and returns the GC percentage in the sequence'''\n",
    "        gc = []\n",
    "        for read in reads:\n",
    "            gc.append((read.count('C') + read.count('G')) / len(read))\n",
    "        return gc\n"
   ]
  },
  {
   "cell_type": "code",
   "execution_count": 2,
   "metadata": {},
   "outputs": [],
   "source": [
    "genome = DNA_Helper.read_genome('lambda_virus.fa.txt')"
   ]
  },
  {
   "cell_type": "markdown",
   "metadata": {},
   "source": [
    "### 1) How many times 'AGGT' or its reverse complement 'ACCT' occurs in the lambda virus file? "
   ]
  },
  {
   "cell_type": "code",
   "execution_count": 3,
   "metadata": {},
   "outputs": [
    {
     "name": "stdout",
     "output_type": "stream",
     "text": [
      "306\n",
      "306\n"
     ]
    }
   ],
   "source": [
    "print(len(DNA_Helper.naive_reverse_complement('AGGT',genome))) # my solution\n",
    "print(genome.count('ACCT') + genome.count('AGGT')) # check-validate"
   ]
  },
  {
   "cell_type": "markdown",
   "metadata": {},
   "source": [
    "### 2) How many times does 'TTAA' or its reverse complement occurs in the lambda virus file?"
   ]
  },
  {
   "cell_type": "code",
   "execution_count": 4,
   "metadata": {},
   "outputs": [
    {
     "name": "stdout",
     "output_type": "stream",
     "text": [
      "195\n",
      "195\n"
     ]
    }
   ],
   "source": [
    "print(len(DNA_Helper.naive_reverse_complement('TTAA',genome))) # my solution\n",
    "print(genome.count('TTAA')) # check-validate"
   ]
  },
  {
   "cell_type": "markdown",
   "metadata": {},
   "source": [
    "### 3) What is the offset of the leftmost occurence of 'ACTAAGT' or its reverse complement in the lambda virus genome?"
   ]
  },
  {
   "cell_type": "code",
   "execution_count": 5,
   "metadata": {},
   "outputs": [
    {
     "name": "stdout",
     "output_type": "stream",
     "text": [
      "(26028, 'reversed sequence')\n",
      "True\n"
     ]
    }
   ],
   "source": [
    "sequence = 'ACTAAGT'\n",
    "print(DNA_Helper.leftmost_occurence(sequence,genome)) # my solution\n",
    "print(genome[26028:26028+len(sequence)] == DNA_Helper.reverse_complement(sequence)) # check-validate"
   ]
  },
  {
   "cell_type": "markdown",
   "metadata": {},
   "source": [
    "### 4) What is the offset of the leftmost occurence of 'AGTCGA' or its reverse complement in the lambda virus genome?"
   ]
  },
  {
   "cell_type": "code",
   "execution_count": 6,
   "metadata": {},
   "outputs": [
    {
     "name": "stdout",
     "output_type": "stream",
     "text": [
      "(450, 'reversed sequence')\n",
      "True\n"
     ]
    }
   ],
   "source": [
    "sequence = 'AGTCGA'\n",
    "print(DNA_Helper.leftmost_occurence(sequence,genome)) # my solution\n",
    "print(genome[450:450+len(sequence)] == DNA_Helper.reverse_complement(sequence)) # check-validate"
   ]
  },
  {
   "cell_type": "markdown",
   "metadata": {},
   "source": [
    "### 5) How many times does 'TTCAAGCC' occur in genome? (using naive_2mm function that allows for 2 mismatches)"
   ]
  },
  {
   "cell_type": "code",
   "execution_count": 7,
   "metadata": {},
   "outputs": [
    {
     "name": "stdout",
     "output_type": "stream",
     "text": [
      "191\n",
      "[0, 3, 4]\n"
     ]
    }
   ],
   "source": [
    "print(len(DNA_Helper.naive_2mm('TTCAAGCC',genome))) # my solution\n",
    "# check-validate\n",
    "pattern = 'ACT'\n",
    "text = 'ACTACTT'\n",
    "# should print 0, 3 and 4 in the list\n",
    "print(DNA_Helper.naive_2mm(pattern,text)) # does it right"
   ]
  },
  {
   "cell_type": "markdown",
   "metadata": {},
   "source": [
    "### 6) Leftmost occurance of 'AGGAGGTT' with naive_2mm"
   ]
  },
  {
   "cell_type": "code",
   "execution_count": 8,
   "metadata": {},
   "outputs": [
    {
     "name": "stdout",
     "output_type": "stream",
     "text": [
      "49\n"
     ]
    }
   ],
   "source": [
    "print(DNA_Helper.naive_2mm('AGGAGGTT',genome)[0])"
   ]
  },
  {
   "cell_type": "markdown",
   "metadata": {},
   "source": [
    "### 7) Report the most occuring leftmost index of poor quality records in FASTQ file"
   ]
  },
  {
   "cell_type": "code",
   "execution_count": 9,
   "metadata": {},
   "outputs": [],
   "source": [
    "sequences, qualities = DNA_Helper.read_fastq('ERR037900_1.first1000.fastq.txt')"
   ]
  },
  {
   "cell_type": "code",
   "execution_count": 10,
   "metadata": {},
   "outputs": [
    {
     "name": "stdout",
     "output_type": "stream",
     "text": [
      "Conversion Table:\n",
      "Character = H Numeric value = 39 ==> High Quality\n",
      "Character = H Numeric value = 39 ==> High Quality\n",
      "Character = H Numeric value = 39 ==> High Quality\n",
      "Character = H Numeric value = 39 ==> High Quality\n",
      "Character = H Numeric value = 39 ==> High Quality\n",
      "Character = H Numeric value = 39 ==> High Quality\n",
      "Character = H Numeric value = 39 ==> High Quality\n",
      "Character = H Numeric value = 39 ==> High Quality\n",
      "Character = H Numeric value = 39 ==> High Quality\n",
      "Character = H Numeric value = 39 ==> High Quality\n",
      "Character = H Numeric value = 39 ==> High Quality\n",
      "Character = H Numeric value = 39 ==> High Quality\n",
      "Character = H Numeric value = 39 ==> High Quality\n",
      "Character = H Numeric value = 39 ==> High Quality\n",
      "Character = H Numeric value = 39 ==> High Quality\n",
      "Character = H Numeric value = 39 ==> High Quality\n",
      "Character = H Numeric value = 39 ==> High Quality\n",
      "Character = H Numeric value = 39 ==> High Quality\n",
      "Character = H Numeric value = 39 ==> High Quality\n",
      "Character = H Numeric value = 39 ==> High Quality\n",
      "Character = H Numeric value = 39 ==> High Quality\n",
      "Character = H Numeric value = 39 ==> High Quality\n",
      "Character = H Numeric value = 39 ==> High Quality\n",
      "Character = H Numeric value = 39 ==> High Quality\n",
      "Character = H Numeric value = 39 ==> High Quality\n",
      "Character = H Numeric value = 39 ==> High Quality\n",
      "Character = H Numeric value = 39 ==> High Quality\n",
      "Character = H Numeric value = 39 ==> High Quality\n",
      "Character = H Numeric value = 39 ==> High Quality\n",
      "Character = H Numeric value = 39 ==> High Quality\n",
      "Character = H Numeric value = 39 ==> High Quality\n",
      "Character = H Numeric value = 39 ==> High Quality\n",
      "Character = H Numeric value = 39 ==> High Quality\n",
      "Character = H Numeric value = 39 ==> High Quality\n",
      "Character = H Numeric value = 39 ==> High Quality\n",
      "Character = H Numeric value = 39 ==> High Quality\n",
      "Character = H Numeric value = 39 ==> High Quality\n",
      "Character = H Numeric value = 39 ==> High Quality\n",
      "Character = H Numeric value = 39 ==> High Quality\n",
      "Character = H Numeric value = 39 ==> High Quality\n",
      "Character = H Numeric value = 39 ==> High Quality\n",
      "Character = H Numeric value = 39 ==> High Quality\n",
      "Character = H Numeric value = 39 ==> High Quality\n",
      "Character = G Numeric value = 38 ==> High Quality\n",
      "Character = F Numeric value = 37 ==> High Quality\n",
      "Character = H Numeric value = 39 ==> High Quality\n",
      "Character = H Numeric value = 39 ==> High Quality\n",
      "Character = H Numeric value = 39 ==> High Quality\n",
      "Character = F Numeric value = 37 ==> High Quality\n",
      "Character = H Numeric value = 39 ==> High Quality\n",
      "Character = F Numeric value = 37 ==> High Quality\n",
      "Character = F Numeric value = 37 ==> High Quality\n",
      "Character = H Numeric value = 39 ==> High Quality\n",
      "Character = H Numeric value = 39 ==> High Quality\n",
      "Character = H Numeric value = 39 ==> High Quality\n",
      "Character = H Numeric value = 39 ==> High Quality\n",
      "Character = H Numeric value = 39 ==> High Quality\n",
      "Character = G Numeric value = 38 ==> High Quality\n",
      "Character = H Numeric value = 39 ==> High Quality\n",
      "Character = H Numeric value = 39 ==> High Quality\n",
      "Character = F Numeric value = 37 ==> High Quality\n",
      "Character = H Numeric value = 39 ==> High Quality\n",
      "Character = E Numeric value = 36 ==> High Quality\n",
      "Character = H Numeric value = 39 ==> High Quality\n",
      "Character = @ Numeric value = 31 ==> High Quality\n",
      "Character = 4 Numeric value = 19 ==> High Quality\n",
      "Character = # Numeric value = 2 ==> Low Quality\n",
      "Character = 5 Numeric value = 20 ==> High Quality\n",
      "Character = 5 Numeric value = 20 ==> High Quality\n",
      "Character = 5 Numeric value = 20 ==> High Quality\n",
      "Character = 5 Numeric value = 20 ==> High Quality\n",
      "Character = 4 Numeric value = 19 ==> High Quality\n",
      "Character = 4 Numeric value = 19 ==> High Quality\n",
      "Character = 5 Numeric value = 20 ==> High Quality\n",
      "Character = 5 Numeric value = 20 ==> High Quality\n",
      "Character = H Numeric value = 39 ==> High Quality\n",
      "Character = G Numeric value = 38 ==> High Quality\n",
      "Character = F Numeric value = 37 ==> High Quality\n",
      "Character = B Numeric value = 33 ==> High Quality\n",
      "Character = F Numeric value = 37 ==> High Quality\n",
      "Character = < Numeric value = 27 ==> High Quality\n",
      "Character = @ Numeric value = 31 ==> High Quality\n",
      "Character = C Numeric value = 34 ==> High Quality\n",
      "Character = > Numeric value = 29 ==> High Quality\n",
      "Character = 7 Numeric value = 22 ==> High Quality\n",
      "Character = E Numeric value = 36 ==> High Quality\n",
      "Character = E Numeric value = 36 ==> High Quality\n",
      "Character = F Numeric value = 37 ==> High Quality\n",
      "Character = @ Numeric value = 31 ==> High Quality\n",
      "Character = F Numeric value = 37 ==> High Quality\n",
      "Character = B Numeric value = 33 ==> High Quality\n",
      "Character = E Numeric value = 36 ==> High Quality\n",
      "Character = D Numeric value = 35 ==> High Quality\n",
      "Character = D Numeric value = 35 ==> High Quality\n",
      "Character = D Numeric value = 35 ==> High Quality\n",
      "Character = < Numeric value = 27 ==> High Quality\n",
      "Character = = Numeric value = 28 ==> High Quality\n",
      "Character = C Numeric value = 34 ==> High Quality\n",
      "Character = < Numeric value = 27 ==> High Quality\n",
      "Character = E Numeric value = 36 ==> High Quality\n"
     ]
    }
   ],
   "source": [
    "first_read = qualities[0]\n",
    "numeric_quality = [DNA_Helper.phred33_to_quality(character) for character in first_read]\n",
    "print('Conversion Table:')\n",
    "for i in range(len(first_read)):\n",
    "    if(numeric_quality[i] < 5):\n",
    "        print('Character =',first_read[i],'Numeric value =',numeric_quality[i],'==> Low Quality') # Hash Sign ==> 2\n",
    "    else:    \n",
    "        print('Character =',first_read[i],'Numeric value =',numeric_quality[i],'==> High Quality')"
   ]
  },
  {
   "cell_type": "code",
   "execution_count": 11,
   "metadata": {},
   "outputs": [],
   "source": [
    "low_quality_indices = []\n",
    "for line in qualities:\n",
    "    low_quality_indices.append(line.find('#'))"
   ]
  },
  {
   "cell_type": "code",
   "execution_count": 12,
   "metadata": {},
   "outputs": [
    {
     "name": "stdout",
     "output_type": "stream",
     "text": [
      "#\n",
      "#\n",
      "#\n",
      "#\n",
      "#\n",
      "#\n",
      "#\n",
      "#\n",
      "#\n",
      "#\n"
     ]
    }
   ],
   "source": [
    "for i in range(10):\n",
    "    print(qualities[i][66]) # at the 66-th index occurs the hash sign '#' which accounts for low quality values"
   ]
  },
  {
   "cell_type": "code",
   "execution_count": 14,
   "metadata": {},
   "outputs": [
    {
     "data": {
      "image/png": "[encoded data removed]",
      "text/plain": [
       "<Figure size 864x504 with 1 Axes>"
      ]
     },
     "metadata": {
      "needs_background": "light"
     },
     "output_type": "display_data"
    }
   ],
   "source": [
    "import matplotlib.pyplot as plt\n",
    "%matplotlib inline\n",
    "\n",
    "plt.figure(figsize = (12,7))\n",
    "plt.hist(low_quality_indices,bins = 50);\n",
    "# most of the low quality values occur at the index 66"
   ]
  },
  {
   "cell_type": "code",
   "execution_count": 15,
   "metadata": {},
   "outputs": [
    {
     "data": {
      "image/png": "[encoded data removed]",
      "text/plain": [
       "<Figure size 864x504 with 1 Axes>"
      ]
     },
     "metadata": {
      "needs_background": "light"
     },
     "output_type": "display_data"
    }
   ],
   "source": [
    "import seaborn as sns\n",
    "\n",
    "# most of the low quality values occur at the index of 66.There are also some other values which are the result of natural differences or random errors\n",
    "# in different cases some of the first lower values occur at the lower indices.For examplewe have some of them at 0\n",
    "# also we have subgroups around 40-60 range but the majority of them start at 66 which is the most problematic index.\n",
    "plt.figure(figsize = (12,7))\n",
    "sns.scatterplot(range(len(low_quality_indices)),low_quality_indices)\n",
    "plt.show()"
   ]
  }
 ],
 "metadata": {
  "kernelspec": {
   "display_name": "Python 3",
   "language": "python",
   "name": "python3"
  },
  "language_info": {
   "codemirror_mode": {
    "name": "ipython",
    "version": 3
   },
   "file_extension": ".py",
   "mimetype": "text/x-python",
   "name": "python",
   "nbconvert_exporter": "python",
   "pygments_lexer": "ipython3",
   "version": "3.7.4"
  }
 },
 "nbformat": 4,
 "nbformat_minor": 2
}
