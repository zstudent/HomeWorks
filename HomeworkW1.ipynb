{
  "nbformat": 4,
  "nbformat_minor": 0,
  "metadata": {
    "colab": {
      "name": "HomeworkW1.ipynb",
      "provenance": []
    },
    "kernelspec": {
      "name": "python3",
      "display_name": "Python 3"
    }
  },
  "cells": [
    {
      "cell_type": "code",
      "metadata": {
        "id": "uU_GomaktZfF",
        "colab_type": "code",
        "colab": {
          "base_uri": "https://localhost:8080/",
          "height": 224
        },
        "outputId": "ee21893b-5e10-4164-a133-1cebfc6c6682"
      },
      "source": [
        "!wget --no-check https://d28rh4a8wq0iu5.cloudfront.net/ads1/data/lambda_virus.fa"
      ],
      "execution_count": 97,
      "outputs": [
        {
          "output_type": "stream",
          "text": [
            "--2020-08-18 11:57:31--  https://d28rh4a8wq0iu5.cloudfront.net/ads1/data/lambda_virus.fa\n",
            "Resolving d28rh4a8wq0iu5.cloudfront.net (d28rh4a8wq0iu5.cloudfront.net)... 13.227.220.8, 13.227.220.106, 13.227.220.193, ...\n",
            "Connecting to d28rh4a8wq0iu5.cloudfront.net (d28rh4a8wq0iu5.cloudfront.net)|13.227.220.8|:443... connected.\n",
            "HTTP request sent, awaiting response... 200 OK\n",
            "Length: 49270 (48K) [application/octet-stream]\n",
            "Saving to: ‘lambda_virus.fa.3’\n",
            "\n",
            "\rlambda_virus.fa.3     0%[                    ]       0  --.-KB/s               \rlambda_virus.fa.3   100%[===================>]  48.12K  --.-KB/s    in 0.003s  \n",
            "\n",
            "2020-08-18 11:57:31 (15.8 MB/s) - ‘lambda_virus.fa.3’ saved [49270/49270]\n",
            "\n"
          ],
          "name": "stdout"
        }
      ]
    },
    {
      "cell_type": "code",
      "metadata": {
        "id": "acgh9guJtt2S",
        "colab_type": "code",
        "colab": {}
      },
      "source": [
        "def readGenome(filename):\n",
        "  genome = ''\n",
        "  with open(filename, 'r') as f:\n",
        "    for line in f:\n",
        "      if not line[0] == '>':\n",
        "        genome += line.rstrip()\n",
        "  return genome"
      ],
      "execution_count": 98,
      "outputs": []
    },
    {
      "cell_type": "code",
      "metadata": {
        "id": "lAxDqdMYuTIS",
        "colab_type": "code",
        "colab": {}
      },
      "source": [
        "genome = readGenome('lambda_virus.fa')"
      ],
      "execution_count": 99,
      "outputs": []
    },
    {
      "cell_type": "code",
      "metadata": {
        "id": "r5QPWCNiJMgV",
        "colab_type": "code",
        "colab": {}
      },
      "source": [
        "def readFastq(filename):\n",
        "  sequences = []\n",
        "  qualities = []\n",
        "  with open(filename) as fh:\n",
        "    while True:\n",
        "      fh.readline() # first line just read dont store\n",
        "      seq = fh.readline().rstrip() # the second line is the sequence\n",
        "      fh.readline() # third line is the \"+\" we dont save it\n",
        "      qual = fh.readline().rstrip() # fourth line is the quality we save to qual\n",
        "      if len(seq) == 0:\n",
        "        break\n",
        "      sequences.append(seq) # store data into sequences list\n",
        "      qualities.append(qual) # store data into qualities list\n",
        "  return sequences, qualities"
      ],
      "execution_count": 100,
      "outputs": []
    },
    {
      "cell_type": "code",
      "metadata": {
        "id": "OzDlCeP3zYTl",
        "colab_type": "code",
        "colab": {}
      },
      "source": [
        "def reverseComplement(s):\n",
        "  complement = {'A': 'T', 'C': 'G', 'G': 'C', 'T': 'A', 'N': 'N'}\n",
        "  t = ''\n",
        "  for base in s:\n",
        "    t = complement[base] + t\n",
        "  return t"
      ],
      "execution_count": 101,
      "outputs": []
    },
    {
      "cell_type": "code",
      "metadata": {
        "id": "JVsmW8BKuq50",
        "colab_type": "code",
        "colab": {}
      },
      "source": [
        "def naive(p, t):\n",
        "  occurrences = []\n",
        "  for i in range(len(t) - len(p) + 1):\n",
        "    match = True\n",
        "    for j in range(len(p)):\n",
        "      if t[i+j] != p[j]:\n",
        "        match = False\n",
        "        break\n",
        "    if match:\n",
        "      occurrences.append(i)\n",
        "  return occurrences"
      ],
      "execution_count": 102,
      "outputs": []
    },
    {
      "cell_type": "code",
      "metadata": {
        "id": "kFhLuaBxwuLO",
        "colab_type": "code",
        "colab": {}
      },
      "source": [
        "def naive_with_rc(p, t):\n",
        "  r = reverseComplement(p)\n",
        "  match = 0\n",
        "  if r == p:\n",
        "    return naive(p,t)\n",
        "  else:\n",
        "    return naive(p,t) + naive(r,t)"
      ],
      "execution_count": 103,
      "outputs": []
    },
    {
      "cell_type": "code",
      "metadata": {
        "id": "gldiLbQVJWCU",
        "colab_type": "code",
        "colab": {
          "base_uri": "https://localhost:8080/",
          "height": 34
        },
        "outputId": "f44ecb8f-3a2a-4913-aac0-999acb96c9c2"
      },
      "source": [
        "# Question 1\n",
        "occurrences = naive_with_rc('AGGT', genome)\n",
        "print('Occurences: %d' % len(occurences))"
      ],
      "execution_count": 104,
      "outputs": [
        {
          "output_type": "stream",
          "text": [
            "Occurences: 195\n"
          ],
          "name": "stdout"
        }
      ]
    },
    {
      "cell_type": "code",
      "metadata": {
        "id": "plPcOOLWK1P3",
        "colab_type": "code",
        "colab": {
          "base_uri": "https://localhost:8080/",
          "height": 34
        },
        "outputId": "aee089df-02a0-45b3-ef15-fe1b1eee787f"
      },
      "source": [
        "# Question 2\n",
        "occurrences = naive_with_rc('TTAA', genome)\n",
        "print('Occurences: %d' % len(occurences))"
      ],
      "execution_count": 105,
      "outputs": [
        {
          "output_type": "stream",
          "text": [
            "Occurences: 195\n"
          ],
          "name": "stdout"
        }
      ]
    },
    {
      "cell_type": "code",
      "metadata": {
        "id": "s1p2NjhhK83B",
        "colab_type": "code",
        "colab": {
          "base_uri": "https://localhost:8080/",
          "height": 34
        },
        "outputId": "434a72d7-6a44-4c8e-ec37-8a7643310d25"
      },
      "source": [
        "# Question 3\n",
        "occurrences = naive_with_rc('ACTAAGT', genome)\n",
        "print('The leftmost occurrence: %d' % min(occurrences))"
      ],
      "execution_count": 106,
      "outputs": [
        {
          "output_type": "stream",
          "text": [
            "The leftmost occurrence: 26028\n"
          ],
          "name": "stdout"
        }
      ]
    },
    {
      "cell_type": "code",
      "metadata": {
        "id": "iIQ7UQoZLaQI",
        "colab_type": "code",
        "colab": {
          "base_uri": "https://localhost:8080/",
          "height": 34
        },
        "outputId": "3522b9da-1ed6-4126-bf4b-e11da5ca0ddf"
      },
      "source": [
        "# Question 4\n",
        "occurrences = naive_with_rc('AGTCGA', genome)\n",
        "print('The leftmost occurrence: %d' % min(occurrences))"
      ],
      "execution_count": 107,
      "outputs": [
        {
          "output_type": "stream",
          "text": [
            "The leftmost occurrence: 450\n"
          ],
          "name": "stdout"
        }
      ]
    },
    {
      "cell_type": "code",
      "metadata": {
        "id": "RkZAwNmX9N8s",
        "colab_type": "code",
        "colab": {}
      },
      "source": [
        "def naive_2mm(p, t):\n",
        "    occurrences = []\n",
        "    for i in range(len(t) - len(p) + 1):\n",
        "        match = True\n",
        "        mismatch_count = 0\n",
        "        for j in range(len(p)):\n",
        "            if t[i+j] != p[j]:\n",
        "                mismatch_count+=1\n",
        "\n",
        "                if mismatch_count > 2:\n",
        "                \tmatch = False\n",
        "                \tbreak\n",
        "        if match:\n",
        "            occurrences.append(i)\n",
        "    return occurrences"
      ],
      "execution_count": 108,
      "outputs": []
    },
    {
      "cell_type": "code",
      "metadata": {
        "id": "UEfktL-WMXNN",
        "colab_type": "code",
        "colab": {
          "base_uri": "https://localhost:8080/",
          "height": 34
        },
        "outputId": "15788f6d-95e2-48f3-c573-70fe5efccfc9"
      },
      "source": [
        "# Question 5\n",
        "occurrences = naive_2mm('TTCAAGCC', genome)\n",
        "print('Occurrences: %d' % len(occurrences))"
      ],
      "execution_count": 109,
      "outputs": [
        {
          "output_type": "stream",
          "text": [
            "Occurrences: 191\n"
          ],
          "name": "stdout"
        }
      ]
    },
    {
      "cell_type": "code",
      "metadata": {
        "id": "cjWfEOgROZrE",
        "colab_type": "code",
        "colab": {
          "base_uri": "https://localhost:8080/",
          "height": 34
        },
        "outputId": "a2ae2cdc-b142-4dfc-d004-94e4a715828e"
      },
      "source": [
        "# Question 6\n",
        "occurrences = naive_2mm('AGGAGGTT', genome)\n",
        "print('Occurrences of the leftmost with up to 2 mismatches: %d' % min(occurrences))"
      ],
      "execution_count": 110,
      "outputs": [
        {
          "output_type": "stream",
          "text": [
            "Occurrences of the leftmost with up to 2 mismatches: 49\n"
          ],
          "name": "stdout"
        }
      ]
    },
    {
      "cell_type": "code",
      "metadata": {
        "id": "WfVfj9SSQTQv",
        "colab_type": "code",
        "colab": {
          "base_uri": "https://localhost:8080/",
          "height": 224
        },
        "outputId": "20111535-7a09-47de-ae65-68425a0b57fa"
      },
      "source": [
        "!wget --no-check https://d28rh4a8wq0iu5.cloudfront.net/ads1/data/ERR037900_1.first1000.fastq"
      ],
      "execution_count": 111,
      "outputs": [
        {
          "output_type": "stream",
          "text": [
            "--2020-08-18 11:57:33--  https://d28rh4a8wq0iu5.cloudfront.net/ads1/data/ERR037900_1.first1000.fastq\n",
            "Resolving d28rh4a8wq0iu5.cloudfront.net (d28rh4a8wq0iu5.cloudfront.net)... 13.227.220.8, 13.227.220.106, 13.227.220.193, ...\n",
            "Connecting to d28rh4a8wq0iu5.cloudfront.net (d28rh4a8wq0iu5.cloudfront.net)|13.227.220.8|:443... connected.\n",
            "HTTP request sent, awaiting response... 200 OK\n",
            "Length: 241626 (236K) [application/octet-stream]\n",
            "Saving to: ‘ERR037900_1.first1000.fastq.3’\n",
            "\n",
            "\r          ERR037900   0%[                    ]       0  --.-KB/s               \rERR037900_1.first10 100%[===================>] 235.96K  --.-KB/s    in 0.01s   \n",
            "\n",
            "2020-08-18 11:57:33 (17.5 MB/s) - ‘ERR037900_1.first1000.fastq.3’ saved [241626/241626]\n",
            "\n"
          ],
          "name": "stdout"
        }
      ]
    },
    {
      "cell_type": "code",
      "metadata": {
        "id": "tPKiH-jBQc-_",
        "colab_type": "code",
        "colab": {}
      },
      "source": [
        "seqs, quals = readFastq('ERR037900_1.first1000.fastq.2')"
      ],
      "execution_count": 112,
      "outputs": []
    },
    {
      "cell_type": "code",
      "metadata": {
        "id": "kii0n1rLYDPR",
        "colab_type": "code",
        "colab": {}
      },
      "source": [
        "import matplotlib.pyplot as plt"
      ],
      "execution_count": 113,
      "outputs": []
    },
    {
      "cell_type": "code",
      "metadata": {
        "id": "XgBaVetlWzqt",
        "colab_type": "code",
        "colab": {}
      },
      "source": [
        "def findGCByPos(reads):\n",
        "  gc = [0] * 100\n",
        "  totals = [0] * 100\n",
        "  for read in reads:\n",
        "    for i in range(len(read)):\n",
        "      if read[i] == 'C' or read[i] == 'G':\n",
        "        gc[i] += 1\n",
        "        totals[i] += 1\n",
        "  \n",
        "  for i in range(len(reads)):\n",
        "    if totals[i] > 0:\n",
        "      gc[i] /= float(totals[i])\n",
        "\n",
        "  return gc"
      ],
      "execution_count": 114,
      "outputs": []
    },
    {
      "cell_type": "code",
      "metadata": {
        "id": "XRori7s4X7xs",
        "colab_type": "code",
        "colab": {}
      },
      "source": [
        "def phred33ToQ(qual):\n",
        "  return ord(qual) - 33"
      ],
      "execution_count": 115,
      "outputs": []
    },
    {
      "cell_type": "code",
      "metadata": {
        "id": "ZlJ5L1XMZ3qA",
        "colab_type": "code",
        "colab": {}
      },
      "source": [
        "def createHist(qualityStrings):\n",
        "  hist = [0] * 50\n",
        "  for read in qualityStrings:\n",
        "    for phred in read:\n",
        "      q = phred33ToQ(phred)\n",
        "      hist[q] += 1\n",
        "  return hist"
      ],
      "execution_count": 116,
      "outputs": []
    },
    {
      "cell_type": "code",
      "metadata": {
        "id": "NyhGDqK3bImf",
        "colab_type": "code",
        "colab": {
          "base_uri": "https://localhost:8080/",
          "height": 302
        },
        "outputId": "dfb06114-eabc-42c2-fdb9-93e7ce694477"
      },
      "source": [
        "h = createHist(quals)\n",
        "print(h)\n",
        "plt.plot(range(len(h)), h)\n",
        "plt.show;"
      ],
      "execution_count": 121,
      "outputs": [
        {
          "output_type": "stream",
          "text": [
            "[0, 0, 17723, 0, 2, 11, 11, 28, 23, 55, 100, 111, 86, 174, 185, 272, 317, 259, 390, 1523, 2782, 762, 286, 413, 403, 538, 351, 694, 971, 777, 1024, 1449, 1341, 1312, 1916, 2233, 3025, 4043, 6640, 45696, 2074, 0, 0, 0, 0, 0, 0, 0, 0, 0]\n"
          ],
          "name": "stdout"
        },
        {
          "output_type": "display_data",
          "data": {
            "image/png": "[encoded data removed]",
            "text/plain": [
              "<Figure size 432x288 with 1 Axes>"
            ]
          },
          "metadata": {
            "tags": [],
            "needs_background": "light"
          }
        }
      ]
    }
  ]
}