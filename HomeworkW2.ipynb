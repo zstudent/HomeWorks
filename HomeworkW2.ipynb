{
  "nbformat": 4,
  "nbformat_minor": 0,
  "metadata": {
    "colab": {
      "name": "HomeworkW2.ipynb",
      "provenance": []
    },
    "kernelspec": {
      "name": "python3",
      "display_name": "Python 3"
    }
  },
  "cells": [
    {
      "cell_type": "code",
      "metadata": {
        "id": "ZbeIlyIas8lg",
        "colab_type": "code",
        "colab": {}
      },
      "source": [
        "from  bm_preproc import *\n",
        "import bisect"
      ],
      "execution_count": 38,
      "outputs": []
    },
    {
      "cell_type": "code",
      "metadata": {
        "id": "ALqJbkzSDFeg",
        "colab_type": "code",
        "colab": {}
      },
      "source": [
        "def boyer_moore(p, p_bm, t):\n",
        "    \"\"\" Do Boyer-Moore matching. p=pattern, t=text,\n",
        "        p_bm=BoyerMoore object for p \"\"\"\n",
        "    i = 0\n",
        "    occurrences = []\n",
        "    while i < len(t) - len(p) + 1:\n",
        "        shift = 1\n",
        "        mismatched = False\n",
        "        for j in range(len(p)-1, -1, -1):\n",
        "            if p[j] != t[i+j]:\n",
        "                skip_bc = p_bm.bad_character_rule(j, t[i+j])\n",
        "                skip_gs = p_bm.good_suffix_rule(j)\n",
        "                shift = max(shift, skip_bc, skip_gs)\n",
        "                mismatched = True\n",
        "                break\n",
        "        if not mismatched:\n",
        "            occurrences.append(i)\n",
        "            skip_gs = p_bm.match_skip()\n",
        "            shift = max(shift, skip_gs)\n",
        "        i += shift\n",
        "    return occurrences"
      ],
      "execution_count": 39,
      "outputs": []
    },
    {
      "cell_type": "code",
      "metadata": {
        "id": "Lg_hgtrTuLl2",
        "colab_type": "code",
        "colab": {}
      },
      "source": [
        "def boyer_moore_with_counts(p, p_bm, t):\n",
        "    \"\"\" Do Boyer-Moore matching. p=pattern, t=text,\n",
        "        p_bm=BoyerMoore object for p \"\"\"\n",
        "    i = 0\n",
        "    occurrences = []\n",
        "    num_alignments = 0\n",
        "    num_character_comparisons = 0\n",
        "    while i < len(t) - len(p) + 1:\n",
        "        shift = 1\n",
        "        mismatched = False\n",
        "        num_alignments += 1\n",
        "        for j in range(len(p)-1, -1, -1):\n",
        "            num_character_comparisons += 1\n",
        "            if p[j] != t[i+j]:\n",
        "                skip_bc = p_bm.bad_character_rule(j, t[i+j])\n",
        "                skip_gs = p_bm.good_suffix_rule(j)\n",
        "                shift = max(shift, skip_bc, skip_gs)\n",
        "                mismatched = True\n",
        "                break\n",
        "        if not mismatched:\n",
        "            occurrences.append(i)\n",
        "            skip_gs = p_bm.match_skip()\n",
        "            shift = max(shift, skip_gs)\n",
        "        i += shift\n",
        "    return occurrences, num_alignments, num_character_comparisons"
      ],
      "execution_count": 40,
      "outputs": []
    },
    {
      "cell_type": "code",
      "metadata": {
        "id": "BpFU74vwwUqp",
        "colab_type": "code",
        "colab": {
          "base_uri": "https://localhost:8080/",
          "height": 34
        },
        "outputId": "7cf6e839-cb06-40a9-b575-2ceaa17be80f"
      },
      "source": [
        "p = 'word'\n",
        "t = 'there would have been a time for such a word'\n",
        "lowercase_alphabet = 'abcdefghijklmnopqrstuvwxyz '\n",
        "p_bm = BoyerMoore(p, lowercase_alphabet)\n",
        "occurrences, num_alignments, num_character_comparisons = boyer_moore_with_counts(p, p_bm, t)\n",
        "print(occurrences, num_alignments, num_character_comparisons)\n"
      ],
      "execution_count": 41,
      "outputs": [
        {
          "output_type": "stream",
          "text": [
            "[40] 12 15\n"
          ],
          "name": "stdout"
        }
      ]
    },
    {
      "cell_type": "code",
      "metadata": {
        "id": "9DVuLuRkwuop",
        "colab_type": "code",
        "colab": {
          "base_uri": "https://localhost:8080/",
          "height": 34
        },
        "outputId": "8df67723-18b1-494c-bd82-aebffcd3c734"
      },
      "source": [
        "p = 'needle'\n",
        "t = 'needle need noodle needle'\n",
        "p_bm = BoyerMoore(p, lowercase_alphabet)\n",
        "occurrences, num_alignments, num_character_comparisons = boyer_moore_with_counts(p, p_bm, t)\n",
        "print(occurrences, num_alignments, num_character_comparisons)"
      ],
      "execution_count": 42,
      "outputs": [
        {
          "output_type": "stream",
          "text": [
            "[0, 19] 5 18\n"
          ],
          "name": "stdout"
        }
      ]
    },
    {
      "cell_type": "code",
      "metadata": {
        "id": "J76yf8i2w7X2",
        "colab_type": "code",
        "colab": {}
      },
      "source": [
        "def naive_with_counts(p, t):\n",
        "    occurrences = []\n",
        "    num_alignments = 0\n",
        "    num_character_comparisons = 0\n",
        "    for i in range(len(t) - len(p) + 1):  # loop over alignments\n",
        "        match = True\n",
        "        num_alignments += 1\n",
        "        for j in range(len(p)):  # loop over characters\n",
        "            num_character_comparisons += 1\n",
        "            if t[i+j] != p[j]:  # compare characters\n",
        "                match = False\n",
        "                break\n",
        "        if match:\n",
        "            occurrences.append(i)  # all chars matched; record\n",
        "    return occurrences,num_alignments,num_character_comparisons"
      ],
      "execution_count": 43,
      "outputs": []
    },
    {
      "cell_type": "code",
      "metadata": {
        "id": "muxo1cftw-Ex",
        "colab_type": "code",
        "colab": {
          "base_uri": "https://localhost:8080/",
          "height": 34
        },
        "outputId": "5e0e7ec6-81bf-4f76-ce17-4c0e3a8f6148"
      },
      "source": [
        "p = 'word'\n",
        "t = 'there would have been a time for such a word'\n",
        "occurrences, num_alignments, num_character_comparisons = naive_with_counts(p, t)\n",
        "print(occurrences, num_alignments, num_character_comparisons)"
      ],
      "execution_count": 44,
      "outputs": [
        {
          "output_type": "stream",
          "text": [
            "[40] 41 46\n"
          ],
          "name": "stdout"
        }
      ]
    },
    {
      "cell_type": "code",
      "metadata": {
        "id": "TRZV-vlLxCUp",
        "colab_type": "code",
        "colab": {
          "base_uri": "https://localhost:8080/",
          "height": 34
        },
        "outputId": "679c630f-2f2b-41c3-84ef-6833fcbb94d8"
      },
      "source": [
        "p = 'needle'\n",
        "t = 'needle need noodle needle'\n",
        "occurrences, num_alignments, num_character_comparisons = naive_with_counts(p, t)\n",
        "print(occurrences, num_alignments, num_character_comparisons)"
      ],
      "execution_count": 45,
      "outputs": [
        {
          "output_type": "stream",
          "text": [
            "[0, 19] 20 35\n"
          ],
          "name": "stdout"
        }
      ]
    },
    {
      "cell_type": "code",
      "metadata": {
        "id": "xn961nmex76p",
        "colab_type": "code",
        "colab": {}
      },
      "source": [
        "def readGenome(filename):\n",
        "  genome = ''\n",
        "  with open(filename, 'r') as f:\n",
        "    for line in f:\n",
        "      if not line[0] == '>':\n",
        "        genome += line.rstrip()\n",
        "  return genome"
      ],
      "execution_count": 46,
      "outputs": []
    },
    {
      "cell_type": "code",
      "metadata": {
        "id": "sWOO4Sc9041L",
        "colab_type": "code",
        "colab": {}
      },
      "source": [
        "genome = readGenome('chr1.GRCh38.excerpt.fasta')"
      ],
      "execution_count": 47,
      "outputs": []
    },
    {
      "cell_type": "code",
      "metadata": {
        "id": "6G2SFCUez5BI",
        "colab_type": "code",
        "colab": {
          "base_uri": "https://localhost:8080/",
          "height": 34
        },
        "outputId": "796efbaa-169c-4039-e704-7f24e72c496b"
      },
      "source": [
        "# Question 1 - 2\n",
        "p = 'GGCGCGGTGGCTCACGCCTGTAATCCCAGCACTTTGGGAGGCCGAGG'\n",
        "t = genome\n",
        "occurrences, num_alignments, num_character_comparisons = naive_with_counts(p, t)\n",
        "print(f'Number of aligments: {num_alignments}. Number of character comparisons: {num_character_comparisons} ')"
      ],
      "execution_count": 48,
      "outputs": [
        {
          "output_type": "stream",
          "text": [
            "Number of aligments: 799954. Number of character comparisons: 984143 \n"
          ],
          "name": "stdout"
        }
      ]
    },
    {
      "cell_type": "code",
      "metadata": {
        "id": "7wwKJNu-1Mn3",
        "colab_type": "code",
        "colab": {
          "base_uri": "https://localhost:8080/",
          "height": 34
        },
        "outputId": "9188f1fb-a51e-4c22-b4ab-a1730c9929e6"
      },
      "source": [
        "# Question 3\n",
        "p = 'GGCGCGGTGGCTCACGCCTGTAATCCCAGCACTTTGGGAGGCCGAGG'\n",
        "t = genome\n",
        "p_bm = BoyerMoore(p)\n",
        "occurrences, num_alignments, num_character_comparisons = boyer_moore_with_counts(p, p_bm, t)\n",
        "print(f'Number of aligments: {num_alignments}')"
      ],
      "execution_count": 49,
      "outputs": [
        {
          "output_type": "stream",
          "text": [
            "Number of aligments: 127974\n"
          ],
          "name": "stdout"
        }
      ]
    },
    {
      "cell_type": "code",
      "metadata": {
        "id": "QaR7i6FL8MGK",
        "colab_type": "code",
        "colab": {}
      },
      "source": [
        "class Index(object):\n",
        "    \"\"\" Holds a substring index for a text T \"\"\"\n",
        "\n",
        "    def __init__(self, t, k):\n",
        "        \"\"\" Create index from all substrings of t of length k \"\"\"\n",
        "        self.k = k  # k-mer length (k)\n",
        "        self.index = []\n",
        "        for i in range(len(t) - k + 1):  # for each k-mer\n",
        "            self.index.append((t[i:i+k], i))  # add (k-mer, offset) pair\n",
        "        self.index.sort()  # alphabetize by k-mer\n",
        "\n",
        "    def query(self, p):\n",
        "        \"\"\" Return index hits for first k-mer of p \"\"\"\n",
        "        kmer = p[:self.k]  # query with first k-mer\n",
        "        i = bisect.bisect_left(self.index, (kmer, -1))  # binary search\n",
        "        hits = []\n",
        "        while i < len(self.index):  # collect matching index entries\n",
        "            if self.index[i][0] != kmer:\n",
        "                break\n",
        "            hits.append(self.index[i][1])\n",
        "            i += 1\n",
        "        return hits"
      ],
      "execution_count": 50,
      "outputs": []
    },
    {
      "cell_type": "code",
      "metadata": {
        "id": "C3p0O39m-UiY",
        "colab_type": "code",
        "colab": {}
      },
      "source": [
        "def approximate_match(p, t, n):\n",
        "    segment_length = int(round(len(p) / (n+1)))\n",
        "    all_matches = set()\n",
        "    for i in range(n+1):\n",
        "        start = i*segment_length\n",
        "        end = min((i+1)*segment_length, len(p))\n",
        "        p_bm = BoyerMoore(p[start:end], alphabet='ACGT')\n",
        "        matches = boyer_moore(p[start:end], p_bm, t)\n",
        "        # Extend matching segments to see if whole p matches\n",
        "        for m in matches:\n",
        "            if m < start or m-start+len(p) > len(t):\n",
        "                continue\n",
        "            mismatches = 0\n",
        "            for j in range(0, start):\n",
        "                if not p[j] == t[m-start+j]:\n",
        "                    mismatches += 1\n",
        "                    if mismatches > n:\n",
        "                        break\n",
        "            for j in range(end, len(p)):\n",
        "                if not p[j] == t[m-start+j]:\n",
        "                    mismatches += 1\n",
        "                    if mismatches > n:\n",
        "                        break\n",
        "            if mismatches <= n:\n",
        "                all_matches.add(m - start)\n",
        "    return list(all_matches)"
      ],
      "execution_count": 51,
      "outputs": []
    },
    {
      "cell_type": "code",
      "metadata": {
        "id": "ieeXvFQPCYwa",
        "colab_type": "code",
        "colab": {}
      },
      "source": [
        "# Question 4\n",
        "def queryIndex_approximate_match(p, t, n, index):\n",
        "    segment_length = int(round(len(p) / (n+1)))\n",
        "    all_matches = set()\n",
        "    indexhits = 0\n",
        "    for i in range(n+1):\n",
        "        # split p into n+1 segments\n",
        "        start = i*segment_length\n",
        "        end = min((i+1)*segment_length, len(p))\n",
        "        matches = index.query(p[start:end])\n",
        "        indexhits += 1\n",
        "        \n",
        "        # Extend matching segments to see if whole p matches\n",
        "        for m in matches:\n",
        "            if m < start or m-start+len(p) > len(t):\n",
        "                continue\n",
        "            mismatches = 0\n",
        "            for j in range(0, start):\n",
        "                if not p[j] == t[m-start+j]:\n",
        "                    mismatches += 1\n",
        "                    if mismatches > n:\n",
        "                        break\n",
        "            for j in range(end, len(p)):\n",
        "                if not p[j] == t[m-start+j]:\n",
        "                    mismatches += 1\n",
        "                    if mismatches > n:\n",
        "                        break\n",
        "            if mismatches <= n:\n",
        "                all_matches.add(m - start)\n",
        "    print(\"indexhits = {}\", indexhits)\n",
        "    return list(all_matches)"
      ],
      "execution_count": 52,
      "outputs": []
    },
    {
      "cell_type": "code",
      "metadata": {
        "id": "zcmNMbohCh4v",
        "colab_type": "code",
        "colab": {
          "base_uri": "https://localhost:8080/",
          "height": 34
        },
        "outputId": "675484c9-5811-4599-e5c9-d16c642dbaae"
      },
      "source": [
        "p = 'GGCGCGGTGGCTCACGCCTGTAAT'\n",
        "t = genome\n",
        "print(len(approximate_match(p, t, 2)))"
      ],
      "execution_count": 53,
      "outputs": [
        {
          "output_type": "stream",
          "text": [
            "19\n"
          ],
          "name": "stdout"
        }
      ]
    },
    {
      "cell_type": "code",
      "metadata": {
        "id": "cMLQ3b4pAad5",
        "colab_type": "code",
        "colab": {}
      },
      "source": [
        "def naive_2mm(p, t):\n",
        "    occurrences = []\n",
        "    for i in range(len(t) - len(p) + 1):\n",
        "        match = True\n",
        "        mismatch_count = 0\n",
        "        for j in range(len(p)):\n",
        "            if t[i+j] != p[j]:\n",
        "                mismatch_count+=1\n",
        "\n",
        "                if mismatch_count > 2:\n",
        "                \tmatch = False\n",
        "                \tbreak\n",
        "        if match:\n",
        "            occurrences.append(i)\n",
        "    return occurrences"
      ],
      "execution_count": 54,
      "outputs": []
    },
    {
      "cell_type": "code",
      "metadata": {
        "id": "KXtmhFo_AcFr",
        "colab_type": "code",
        "colab": {
          "base_uri": "https://localhost:8080/",
          "height": 34
        },
        "outputId": "eacb974e-3b2e-4c4c-9591-8c74754bd5bf"
      },
      "source": [
        "occurrences = naive_2mm('GGCGCGGTGGCTCACGCCTGTAAT', genome)\n",
        "print('Occurrences: %d' % len(occurrences))"
      ],
      "execution_count": 55,
      "outputs": [
        {
          "output_type": "stream",
          "text": [
            "Occurrences: 19\n"
          ],
          "name": "stdout"
        }
      ]
    },
    {
      "cell_type": "code",
      "metadata": {
        "id": "t3hzvTEJEdwB",
        "colab_type": "code",
        "colab": {
          "base_uri": "https://localhost:8080/",
          "height": 51
        },
        "outputId": "6616e41c-2044-4377-eeb7-0adb144fb8d1"
      },
      "source": [
        "    # Question 5\n",
        "    index = Index(t,8)\n",
        "    print(queryIndex_approximate_match(p, t, 2, index))"
      ],
      "execution_count": 56,
      "outputs": [
        {
          "output_type": "stream",
          "text": [
            "indexhits = {} 3\n",
            "[84641, 160162, 724927, 273669, 147558, 364263, 421221, 681737, 717706, 465647, 429299, 747359, 657496, 160729, 56922, 635931, 191452, 551134, 262042]\n"
          ],
          "name": "stdout"
        }
      ]
    },
    {
      "cell_type": "code",
      "metadata": {
        "id": "YtaMj7j0FmWq",
        "colab_type": "code",
        "colab": {}
      },
      "source": [
        "class SubseqIndex(object):\n",
        "    \"\"\" Holds a subsequence index for a text T \"\"\"\n",
        "    \n",
        "    def __init__(self, t, k, ival):\n",
        "        \"\"\" Create index from all subsequences consisting of k characters\n",
        "            spaced ival positions apart.  E.g., SubseqIndex(\"ATAT\", 2, 2)\n",
        "            extracts (\"AA\", 0) and (\"TT\", 1). \"\"\"\n",
        "        self.k = k  # num characters per subsequence extracted\n",
        "        self.ival = ival  # space between them; 1=adjacent, 2=every other, etc\n",
        "        self.index = []\n",
        "        self.span = 1 + ival * (k - 1)\n",
        "        for i in range(len(t) - self.span + 1):  # for each subseq\n",
        "            self.index.append((t[i:i+self.span:ival], i))  # add (subseq, offset)\n",
        "        self.index.sort()  # alphabetize by subseq\n",
        "    \n",
        "    def query(self, p):\n",
        "        \"\"\" Return index hits for first subseq of p \"\"\"\n",
        "        subseq = p[:self.span:self.ival]  # query with first subseq\n",
        "        i = bisect.bisect_left(self.index, (subseq, -1))  # binary search\n",
        "        hits = []\n",
        "        while i < len(self.index):  # collect matching index entries\n",
        "            if self.index[i][0] != subseq:\n",
        "                break\n",
        "            hits.append(self.index[i][1])\n",
        "            i += 1\n",
        "        return hits"
      ],
      "execution_count": 57,
      "outputs": []
    },
    {
      "cell_type": "code",
      "metadata": {
        "id": "D5nyZgIGK1_T",
        "colab_type": "code",
        "colab": {}
      },
      "source": [
        "t = genome\n",
        "p = 'GGCGCGGTGGCTCACGCCTGTAAT'\n",
        "subseq_ind = SubseqIndex(t, 8, 3)"
      ],
      "execution_count": 58,
      "outputs": []
    },
    {
      "cell_type": "code",
      "metadata": {
        "id": "LzKvuzFCNwLf",
        "colab_type": "code",
        "colab": {}
      },
      "source": [
        "def query_subseq(p, t, subseq_ind, k):\n",
        "    occurrences = []\n",
        "    num_index_hits = 0\n",
        "\n",
        "    for i in range(len(t) - len(p) + 1):  # loop over alignments\n",
        "        mismatches = 0\n",
        "        match = True\n",
        "        skip = 0\n",
        "        for j in range(len(p) - k):  # loop over characters\n",
        "            if skip == 0:\n",
        "                if i in subseq_ind.query(p[j:]):  # Checks if the current index contains subset of the character\n",
        "                    num_index_hits += 1\n",
        "                    skip += k\n",
        "                else:\n",
        "                    if t[i + j] != p[j]:  # compare characters\n",
        "                        if mismatches < 2:\n",
        "                            mismatches += 1\n",
        "                        else:\n",
        "                            match = False\n",
        "                            break\n",
        "            else:\n",
        "                skip -= 1\n",
        "\n",
        "        if match:\n",
        "            occurrences.append(i)  # all chars matched; record\n",
        "\n",
        "    return occurrences, num_index_hits"
      ],
      "execution_count": 59,
      "outputs": []
    },
    {
      "cell_type": "code",
      "metadata": {
        "id": "36hPdUY5Md9T",
        "colab_type": "code",
        "colab": {
          "base_uri": "https://localhost:8080/",
          "height": 34
        },
        "outputId": "b80af1f7-8e44-4ca4-e9fc-3384a220231c"
      },
      "source": [
        "t = genome\n",
        "p = 'GGCGCGGTGGCTCACGCCTGTAAT'\n",
        "k = 8\n",
        "subseq_ind = SubseqIndex(t, k, 3)\n",
        "occurrences, num_index_hits = query_subseq(p, t, subseq_ind, k)\n",
        "print(f'Number of index hits: {num_index_hits}')"
      ],
      "execution_count": 60,
      "outputs": [
        {
          "output_type": "stream",
          "text": [
            "Number of index hits: 79\n"
          ],
          "name": "stdout"
        }
      ]
    }
  ]
}